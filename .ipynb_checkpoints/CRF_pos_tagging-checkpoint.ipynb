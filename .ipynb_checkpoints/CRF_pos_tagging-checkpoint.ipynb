{
 "cells": [
  {
   "cell_type": "code",
   "execution_count": 1,
   "id": "0f45905f",
   "metadata": {
    "ExecuteTime": {
     "end_time": "2023-04-15T15:41:40.148804Z",
     "start_time": "2023-04-15T15:41:39.552011Z"
    }
   },
   "outputs": [],
   "source": [
    "import re\n",
    "from zhon.hanzi import punctuation #chinese punctuation\n",
    "\n",
    "import sklearn_crfsuite\n",
    "from sklearn_crfsuite import scorers\n",
    "from sklearn_crfsuite import metrics"
   ]
  },
  {
   "cell_type": "markdown",
   "id": "e6615bff",
   "metadata": {},
   "source": [
    "# Preprocessing"
   ]
  },
  {
   "cell_type": "code",
   "execution_count": 2,
   "id": "1977edae",
   "metadata": {
    "ExecuteTime": {
     "end_time": "2023-04-15T15:41:41.484461Z",
     "start_time": "2023-04-15T15:41:40.153673Z"
    }
   },
   "outputs": [],
   "source": [
    "with open('train.txt', 'r', encoding='UTF-8') as f:\n",
    "    train_sents = []\n",
    "    for sent in f:\n",
    "        # Split each sentence and extract each word and its corresponding tagging\n",
    "        token_tag_list = [i.strip('[]').split('/') for i in sent.strip().split() if i]\n",
    "        # Remove NER tagging embedded in pos of tagging\n",
    "        token_tag_list = [[i[0],i[1].split(']')[0]] for i in token_tag_list]\n",
    "        token_tag_list = token_tag_list[1:] # delete the date\n",
    "        train_sents.append(token_tag_list)\n",
    "        \n",
    "with open('test.txt', 'r', encoding='UTF-8') as f:\n",
    "    test_sents = []\n",
    "    for sent in f:\n",
    "        # Split each sentence and extract each word and its corresponding tagging\n",
    "        token_tag_list = [i.strip('[]').split('/') for i in sent.strip().split() if i]\n",
    "        # Remove NER tagging embedded in pos of tagging\n",
    "        token_tag_list = [[i[0],i[1].split(']')[0]] for i in token_tag_list]\n",
    "        token_tag_list = token_tag_list[1:] # delete the date\n",
    "        test_sents.append(token_tag_list)"
   ]
  },
  {
   "cell_type": "markdown",
   "id": "51698d2a",
   "metadata": {},
   "source": [
    "# Feature function"
   ]
  },
  {
   "cell_type": "markdown",
   "id": "6ae7d4dd",
   "metadata": {},
   "source": [
    "T(·) is a multi-valued function, it classifies a character into four classifications: number, date, English letter and others (returns 1, 2, 3 and 4, respectively) (Jiang, et al., 2009)"
   ]
  },
  {
   "cell_type": "code",
   "execution_count": 3,
   "id": "937f6ba5",
   "metadata": {
    "ExecuteTime": {
     "end_time": "2023-04-15T15:41:41.500351Z",
     "start_time": "2023-04-15T15:41:41.488323Z"
    }
   },
   "outputs": [],
   "source": [
    "def T(word):\n",
    "    if word.isdigit() or word in ['零','一','二','三','四','五','六','七','八','九','〇']:\n",
    "        return '1'\n",
    "    elif word in ['-', '/', ':','年','月','日','时','分','秒']:\n",
    "        return '2'\n",
    "    elif bool(re.match(\"^[A-Za-z]+$\", word)):\n",
    "        return '3'\n",
    "    else:\n",
    "        return '4'"
   ]
  },
  {
   "cell_type": "code",
   "execution_count": 4,
   "id": "06a41e49",
   "metadata": {
    "ExecuteTime": {
     "end_time": "2023-04-15T15:41:41.516321Z",
     "start_time": "2023-04-15T15:41:41.508353Z"
    }
   },
   "outputs": [
    {
     "data": {
      "text/plain": [
       "'11243'"
      ]
     },
     "execution_count": 4,
     "metadata": {},
     "output_type": "execute_result"
    }
   ],
   "source": [
    "# Example\n",
    "word = '九〇年代R'\n",
    "result = []\n",
    "for w in word:\n",
    "    result.append(T(w))\n",
    "result_str = \"\".join(result)\n",
    "result_str"
   ]
  },
  {
   "cell_type": "code",
   "execution_count": 5,
   "id": "8c83f3d2",
   "metadata": {
    "ExecuteTime": {
     "end_time": "2023-04-15T15:41:41.546787Z",
     "start_time": "2023-04-15T15:41:41.522325Z"
    }
   },
   "outputs": [],
   "source": [
    "def word2features(sent, i):\n",
    "    word = sent[i][0]\n",
    "    word_T = []\n",
    "    word_T.append(T(word))\n",
    "    \n",
    "    features = {\n",
    "        'word': word,\n",
    "        'len(word)': len(word),\n",
    "        'word.ispunctuation': (word in punctuation)\n",
    "    }\n",
    "    if i > 0:\n",
    "        word1 = sent[i-1][0]\n",
    "        word_T.append(T(word1))\n",
    "        features.update({\n",
    "            '-1:word': word1,\n",
    "            '-1:len(word)': len(word1),\n",
    "            '-1:word.ispunctuation': (word1 in punctuation)\n",
    "        })\n",
    "    else:\n",
    "        features['BOS'] = True\n",
    "\n",
    "    if i > 1:\n",
    "        word2 = sent[i-2][0]\n",
    "        word_T.append(T(word2))\n",
    "        features.update({\n",
    "            '-2:word': word2,\n",
    "            '-2:len(word)': len(word2),\n",
    "            '-2:word.ispunctuation': (word2 in punctuation)\n",
    "        })\n",
    "\n",
    "    if i < len(sent)-1:\n",
    "        word1 = sent[i+1][0]\n",
    "        word_T.append(T(word1))\n",
    "        features.update({\n",
    "            '+1:word': word1,\n",
    "            '+1:len(word)': len(word1),\n",
    "            '+1:word.ispunctuation': (word1 in punctuation),\n",
    "        })\n",
    "\n",
    "    else:\n",
    "        features['EOS'] = True\n",
    "    if i < len(sent) - 2:\n",
    "        word2 = sent[i+2][0]\n",
    "        word_T.append(T(word2))\n",
    "        features.update({\n",
    "            '+2:word': word2,\n",
    "            '+2:len(word)': len(word2),\n",
    "            '+2:word.ispunctuation': (word2 in punctuation)\n",
    "        })\n",
    "        \n",
    "    result_str = \"\".join(word_T)\n",
    "    features.update({'multi_value': result_str})\n",
    "\n",
    "    return features\n",
    "\n",
    "\n",
    "def sent2features(sent):\n",
    "    return [word2features(sent, i) for i in range(len(sent))]\n",
    "\n",
    "def sent2labels(sent):\n",
    "    return [word[1] for word in sent]\n",
    "\n",
    "def sent2tokens(sent):\n",
    "    return [word[0] for word in sent]"
   ]
  },
  {
   "cell_type": "code",
   "execution_count": 6,
   "id": "2f81effa",
   "metadata": {
    "ExecuteTime": {
     "end_time": "2023-04-15T15:41:50.747976Z",
     "start_time": "2023-04-15T15:41:41.549525Z"
    }
   },
   "outputs": [],
   "source": [
    "Xtrain = [sent2features(s) for s in train_sents]\n",
    "ytrain = [sent2labels(s) for s in train_sents]\n",
    "\n",
    "Xtest = [sent2features(s) for s in test_sents]\n",
    "ytest = [sent2labels(s) for s in test_sents]"
   ]
  },
  {
   "cell_type": "markdown",
   "id": "36bf20d4",
   "metadata": {
    "ExecuteTime": {
     "end_time": "2023-04-12T01:30:24.628762Z",
     "start_time": "2023-04-12T01:30:24.608759Z"
    }
   },
   "source": [
    "# Training the Model"
   ]
  },
  {
   "cell_type": "code",
   "execution_count": 7,
   "id": "afd0f74c",
   "metadata": {
    "ExecuteTime": {
     "end_time": "2023-04-15T15:50:18.453672Z",
     "start_time": "2023-04-15T15:41:50.749978Z"
    }
   },
   "outputs": [
    {
     "name": "stdout",
     "output_type": "stream",
     "text": [
      "CPU times: total: 8min 26s\n",
      "Wall time: 8min 27s\n"
     ]
    },
    {
     "data": {
      "text/html": [
       "<style>#sk-container-id-1 {color: black;background-color: white;}#sk-container-id-1 pre{padding: 0;}#sk-container-id-1 div.sk-toggleable {background-color: white;}#sk-container-id-1 label.sk-toggleable__label {cursor: pointer;display: block;width: 100%;margin-bottom: 0;padding: 0.3em;box-sizing: border-box;text-align: center;}#sk-container-id-1 label.sk-toggleable__label-arrow:before {content: \"▸\";float: left;margin-right: 0.25em;color: #696969;}#sk-container-id-1 label.sk-toggleable__label-arrow:hover:before {color: black;}#sk-container-id-1 div.sk-estimator:hover label.sk-toggleable__label-arrow:before {color: black;}#sk-container-id-1 div.sk-toggleable__content {max-height: 0;max-width: 0;overflow: hidden;text-align: left;background-color: #f0f8ff;}#sk-container-id-1 div.sk-toggleable__content pre {margin: 0.2em;color: black;border-radius: 0.25em;background-color: #f0f8ff;}#sk-container-id-1 input.sk-toggleable__control:checked~div.sk-toggleable__content {max-height: 200px;max-width: 100%;overflow: auto;}#sk-container-id-1 input.sk-toggleable__control:checked~label.sk-toggleable__label-arrow:before {content: \"▾\";}#sk-container-id-1 div.sk-estimator input.sk-toggleable__control:checked~label.sk-toggleable__label {background-color: #d4ebff;}#sk-container-id-1 div.sk-label input.sk-toggleable__control:checked~label.sk-toggleable__label {background-color: #d4ebff;}#sk-container-id-1 input.sk-hidden--visually {border: 0;clip: rect(1px 1px 1px 1px);clip: rect(1px, 1px, 1px, 1px);height: 1px;margin: -1px;overflow: hidden;padding: 0;position: absolute;width: 1px;}#sk-container-id-1 div.sk-estimator {font-family: monospace;background-color: #f0f8ff;border: 1px dotted black;border-radius: 0.25em;box-sizing: border-box;margin-bottom: 0.5em;}#sk-container-id-1 div.sk-estimator:hover {background-color: #d4ebff;}#sk-container-id-1 div.sk-parallel-item::after {content: \"\";width: 100%;border-bottom: 1px solid gray;flex-grow: 1;}#sk-container-id-1 div.sk-label:hover label.sk-toggleable__label {background-color: #d4ebff;}#sk-container-id-1 div.sk-serial::before {content: \"\";position: absolute;border-left: 1px solid gray;box-sizing: border-box;top: 0;bottom: 0;left: 50%;z-index: 0;}#sk-container-id-1 div.sk-serial {display: flex;flex-direction: column;align-items: center;background-color: white;padding-right: 0.2em;padding-left: 0.2em;position: relative;}#sk-container-id-1 div.sk-item {position: relative;z-index: 1;}#sk-container-id-1 div.sk-parallel {display: flex;align-items: stretch;justify-content: center;background-color: white;position: relative;}#sk-container-id-1 div.sk-item::before, #sk-container-id-1 div.sk-parallel-item::before {content: \"\";position: absolute;border-left: 1px solid gray;box-sizing: border-box;top: 0;bottom: 0;left: 50%;z-index: -1;}#sk-container-id-1 div.sk-parallel-item {display: flex;flex-direction: column;z-index: 1;position: relative;background-color: white;}#sk-container-id-1 div.sk-parallel-item:first-child::after {align-self: flex-end;width: 50%;}#sk-container-id-1 div.sk-parallel-item:last-child::after {align-self: flex-start;width: 50%;}#sk-container-id-1 div.sk-parallel-item:only-child::after {width: 0;}#sk-container-id-1 div.sk-dashed-wrapped {border: 1px dashed gray;margin: 0 0.4em 0.5em 0.4em;box-sizing: border-box;padding-bottom: 0.4em;background-color: white;}#sk-container-id-1 div.sk-label label {font-family: monospace;font-weight: bold;display: inline-block;line-height: 1.2em;}#sk-container-id-1 div.sk-label-container {text-align: center;}#sk-container-id-1 div.sk-container {/* jupyter's `normalize.less` sets `[hidden] { display: none; }` but bootstrap.min.css set `[hidden] { display: none !important; }` so we also need the `!important` here to be able to override the default hidden behavior on the sphinx rendered scikit-learn.org. See: https://github.com/scikit-learn/scikit-learn/issues/21755 */display: inline-block !important;position: relative;}#sk-container-id-1 div.sk-text-repr-fallback {display: none;}</style><div id=\"sk-container-id-1\" class=\"sk-top-container\"><div class=\"sk-text-repr-fallback\"><pre>CRF(algorithm=&#x27;lbfgs&#x27;, all_possible_transitions=True, c1=0.25, c2=0.3,\n",
       "    max_iterations=100)</pre><b>In a Jupyter environment, please rerun this cell to show the HTML representation or trust the notebook. <br />On GitHub, the HTML representation is unable to render, please try loading this page with nbviewer.org.</b></div><div class=\"sk-container\" hidden><div class=\"sk-item\"><div class=\"sk-estimator sk-toggleable\"><input class=\"sk-toggleable__control sk-hidden--visually\" id=\"sk-estimator-id-1\" type=\"checkbox\" checked><label for=\"sk-estimator-id-1\" class=\"sk-toggleable__label sk-toggleable__label-arrow\">CRF</label><div class=\"sk-toggleable__content\"><pre>CRF(algorithm=&#x27;lbfgs&#x27;, all_possible_transitions=True, c1=0.25, c2=0.3,\n",
       "    max_iterations=100)</pre></div></div></div></div></div>"
      ],
      "text/plain": [
       "CRF(algorithm='lbfgs', all_possible_transitions=True, c1=0.25, c2=0.3,\n",
       "    max_iterations=100)"
      ]
     },
     "execution_count": 7,
     "metadata": {},
     "output_type": "execute_result"
    }
   ],
   "source": [
    "%%time                                  \n",
    "crf = sklearn_crfsuite.CRF(\n",
    "    algorithm = 'lbfgs',\n",
    "    c1 = 0.25,\n",
    "    c2 = 0.3,\n",
    "    max_iterations = 100,\n",
    "    all_possible_transitions=True\n",
    ")\n",
    "crf.fit(Xtrain, ytrain)  "
   ]
  },
  {
   "cell_type": "markdown",
   "id": "3d3c38b3",
   "metadata": {},
   "source": [
    "# Evaluation"
   ]
  },
  {
   "cell_type": "code",
   "execution_count": 8,
   "id": "ccd93e79",
   "metadata": {
    "ExecuteTime": {
     "end_time": "2023-04-15T15:50:37.383848Z",
     "start_time": "2023-04-15T15:50:18.458640Z"
    }
   },
   "outputs": [
    {
     "name": "stdout",
     "output_type": "stream",
     "text": [
      "F1 score on the train set = 0.9788501852849337\n",
      "\n",
      "Accuracy on the train set = 0.9789962409404661\n",
      "\n"
     ]
    },
    {
     "name": "stderr",
     "output_type": "stream",
     "text": [
      "C:\\Users\\DELL\\anaconda3\\envs\\text_analysis\\lib\\site-packages\\sklearn\\metrics\\_classification.py:1344: UndefinedMetricWarning: Precision and F-score are ill-defined and being set to 0.0 in labels with no predicted samples. Use `zero_division` parameter to control this behavior.\n",
      "  _warn_prf(average, modifier, msg_start, len(result))\n",
      "C:\\Users\\DELL\\anaconda3\\envs\\text_analysis\\lib\\site-packages\\sklearn\\metrics\\_classification.py:1344: UndefinedMetricWarning: Precision and F-score are ill-defined and being set to 0.0 in labels with no predicted samples. Use `zero_division` parameter to control this behavior.\n",
      "  _warn_prf(average, modifier, msg_start, len(result))\n"
     ]
    },
    {
     "name": "stdout",
     "output_type": "stream",
     "text": [
      "Train set classification report: \n",
      "\n",
      "              precision    recall  f1-score   support\n",
      "\n",
      "           r      0.997     0.993     0.995     25929\n",
      "          Ng      0.974     0.931     0.952      3604\n",
      "           p      0.970     0.979     0.974     32083\n",
      "          nt      0.994     0.977     0.985      2846\n",
      "           w      1.000     1.000     1.000    138463\n",
      "           u      0.997     0.999     0.998     60070\n",
      "          vn      0.918     0.896     0.907     34511\n",
      "           v      0.966     0.967     0.966    147983\n",
      "           t      0.995     0.987     0.991     16656\n",
      "           f      0.991     0.988     0.990     13791\n",
      "           n      0.973     0.993     0.983    189403\n",
      "           m      0.995     0.991     0.993     32917\n",
      "           q      0.989     0.993     0.991     19237\n",
      "           l      0.969     0.952     0.960      4849\n",
      "           a      0.961     0.954     0.958     27723\n",
      "           b      0.987     0.953     0.970      7018\n",
      "           c      0.980     0.970     0.975     20544\n",
      "          ad      0.948     0.958     0.953      4773\n",
      "          nz      0.967     0.872     0.917      2893\n",
      "          nx      0.996     0.717     0.834       381\n",
      "           d      0.980     0.980     0.980     38416\n",
      "          nr      0.985     0.985     0.985     28103\n",
      "          an      0.915     0.789     0.847      2319\n",
      "          ns      0.995     0.979     0.987     22410\n",
      "           i      0.948     0.961     0.955      4057\n",
      "          Vg      0.980     0.862     0.917      1393\n",
      "           s      0.987     0.949     0.968      3054\n",
      "           z      0.993     0.764     0.863      1100\n",
      "           j      0.993     0.927     0.959      8198\n",
      "          Ag      0.974     0.810     0.885       279\n",
      "           k      0.992     0.988     0.990       742\n",
      "           y      0.988     0.980     0.984      1518\n",
      "          Tg      0.983     0.964     0.973       411\n",
      "           e      1.000     0.727     0.842        22\n",
      "          vd      0.929     0.771     0.843       441\n",
      "          Dg      1.000     0.771     0.871       105\n",
      "          Mg      1.000     0.714     0.833         7\n",
      "           o      1.000     0.179     0.303        56\n",
      "           h      0.974     0.949     0.961        39\n",
      "          Bg      1.000     0.286     0.444         7\n",
      "          na      0.000     0.000     0.000         1\n",
      "          Rg      1.000     0.333     0.500         9\n",
      "         vvn      0.000     0.000     0.000         1\n",
      "          Yg      0.000     0.000     0.000         1\n",
      "\n",
      "    accuracy                          0.979    898363\n",
      "   macro avg      0.913     0.812     0.845    898363\n",
      "weighted avg      0.979     0.979     0.979    898363\n",
      "\n"
     ]
    },
    {
     "name": "stderr",
     "output_type": "stream",
     "text": [
      "C:\\Users\\DELL\\anaconda3\\envs\\text_analysis\\lib\\site-packages\\sklearn\\metrics\\_classification.py:1344: UndefinedMetricWarning: Precision and F-score are ill-defined and being set to 0.0 in labels with no predicted samples. Use `zero_division` parameter to control this behavior.\n",
      "  _warn_prf(average, modifier, msg_start, len(result))\n"
     ]
    }
   ],
   "source": [
    "#obtaining metrics such as accuracy, etc. on the train set\n",
    "labels = list(crf.classes_)\n",
    "ypred = crf.predict(Xtrain)\n",
    "print('F1 score on the train set = {}\\n'.format(metrics.flat_f1_score(ytrain, ypred, average='weighted', labels=labels)))\n",
    "print('Accuracy on the train set = {}\\n'.format(metrics.flat_accuracy_score(ytrain, ypred)))\n",
    "print('Train set classification report: \\n\\n{}'.format(metrics.flat_classification_report(\n",
    "ytrain, ypred, labels=labels, digits=3\n",
    ")))"
   ]
  },
  {
   "cell_type": "code",
   "execution_count": 9,
   "id": "056f7cbe",
   "metadata": {
    "ExecuteTime": {
     "end_time": "2023-04-15T15:50:41.974247Z",
     "start_time": "2023-04-15T15:50:37.390858Z"
    }
   },
   "outputs": [
    {
     "name": "stderr",
     "output_type": "stream",
     "text": [
      "C:\\Users\\DELL\\anaconda3\\envs\\text_analysis\\lib\\site-packages\\sklearn\\metrics\\_classification.py:1609: UndefinedMetricWarning: F-score is ill-defined and being set to 0.0 in labels with no true nor predicted samples. Use `zero_division` parameter to control this behavior.\n",
      "  _warn_prf(average, \"true nor predicted\", \"F-score is\", len(true_sum))\n"
     ]
    },
    {
     "name": "stdout",
     "output_type": "stream",
     "text": [
      "F1 score on the test set = 0.9452930520884762\n",
      "\n",
      "Accuracy on the test set = 0.9461458464076312\n",
      "\n"
     ]
    },
    {
     "name": "stderr",
     "output_type": "stream",
     "text": [
      "C:\\Users\\DELL\\anaconda3\\envs\\text_analysis\\lib\\site-packages\\sklearn\\metrics\\_classification.py:1344: UndefinedMetricWarning: Precision and F-score are ill-defined and being set to 0.0 in labels with no predicted samples. Use `zero_division` parameter to control this behavior.\n",
      "  _warn_prf(average, modifier, msg_start, len(result))\n",
      "C:\\Users\\DELL\\anaconda3\\envs\\text_analysis\\lib\\site-packages\\sklearn\\metrics\\_classification.py:1344: UndefinedMetricWarning: Recall and F-score are ill-defined and being set to 0.0 in labels with no true samples. Use `zero_division` parameter to control this behavior.\n",
      "  _warn_prf(average, modifier, msg_start, len(result))\n",
      "C:\\Users\\DELL\\anaconda3\\envs\\text_analysis\\lib\\site-packages\\sklearn\\metrics\\_classification.py:1344: UndefinedMetricWarning: Precision and F-score are ill-defined and being set to 0.0 in labels with no predicted samples. Use `zero_division` parameter to control this behavior.\n",
      "  _warn_prf(average, modifier, msg_start, len(result))\n",
      "C:\\Users\\DELL\\anaconda3\\envs\\text_analysis\\lib\\site-packages\\sklearn\\metrics\\_classification.py:1344: UndefinedMetricWarning: Recall and F-score are ill-defined and being set to 0.0 in labels with no true samples. Use `zero_division` parameter to control this behavior.\n",
      "  _warn_prf(average, modifier, msg_start, len(result))\n"
     ]
    },
    {
     "name": "stdout",
     "output_type": "stream",
     "text": [
      "Test set classification report: \n",
      "\n",
      "              precision    recall  f1-score   support\n",
      "\n",
      "           r      0.996     0.980     0.988      6398\n",
      "          Ng      0.925     0.777     0.844       958\n",
      "           p      0.932     0.949     0.940      7842\n",
      "          nt      0.988     0.920     0.953       727\n",
      "           w      1.000     1.000     1.000     34584\n",
      "           u      0.993     0.997     0.995     14759\n",
      "          vn      0.847     0.810     0.828      8223\n",
      "           v      0.918     0.930     0.924     36781\n",
      "           t      0.984     0.955     0.969      4024\n",
      "           f      0.973     0.968     0.971      3410\n",
      "           n      0.918     0.975     0.946     47407\n",
      "           m      0.981     0.966     0.974      8453\n",
      "           q      0.969     0.979     0.974      5007\n",
      "           l      0.863     0.664     0.750      1166\n",
      "           a      0.924     0.874     0.898      6750\n",
      "           b      0.970     0.832     0.896      1697\n",
      "           c      0.954     0.935     0.945      4935\n",
      "          ad      0.891     0.884     0.888      1160\n",
      "          nz      0.875     0.624     0.728       808\n",
      "          nx      0.850     0.436     0.576        78\n",
      "           d      0.953     0.948     0.951      9395\n",
      "          nr      0.953     0.936     0.945      7164\n",
      "          an      0.788     0.604     0.684       518\n",
      "          ns      0.967     0.904     0.935      5480\n",
      "           i      0.764     0.718     0.741       976\n",
      "          Vg      0.925     0.654     0.766       356\n",
      "           s      0.962     0.877     0.918       782\n",
      "           z      0.985     0.460     0.628       291\n",
      "           j      0.979     0.818     0.891      2125\n",
      "          Ag      0.810     0.405     0.540        42\n",
      "           k      0.983     0.957     0.970       186\n",
      "           y      0.975     0.965     0.970       371\n",
      "          Tg      0.987     0.906     0.945        85\n",
      "           e      1.000     0.200     0.333         5\n",
      "          vd      0.857     0.414     0.558        87\n",
      "          Dg      1.000     0.233     0.378        30\n",
      "          Mg      0.000     0.000     0.000         0\n",
      "           o      0.000     0.000     0.000        14\n",
      "           h      1.000     0.875     0.933         8\n",
      "          Bg      0.000     0.000     0.000         1\n",
      "          na      0.000     0.000     0.000         0\n",
      "          Rg      0.000     0.000     0.000         1\n",
      "         vvn      0.000     0.000     0.000         0\n",
      "          Yg      0.000     0.000     0.000         0\n",
      "\n",
      "   micro avg      0.946     0.946     0.946    223084\n",
      "   macro avg      0.787     0.667     0.706    223084\n",
      "weighted avg      0.946     0.946     0.945    223084\n",
      "\n"
     ]
    },
    {
     "name": "stderr",
     "output_type": "stream",
     "text": [
      "C:\\Users\\DELL\\anaconda3\\envs\\text_analysis\\lib\\site-packages\\sklearn\\metrics\\_classification.py:1344: UndefinedMetricWarning: Precision and F-score are ill-defined and being set to 0.0 in labels with no predicted samples. Use `zero_division` parameter to control this behavior.\n",
      "  _warn_prf(average, modifier, msg_start, len(result))\n",
      "C:\\Users\\DELL\\anaconda3\\envs\\text_analysis\\lib\\site-packages\\sklearn\\metrics\\_classification.py:1344: UndefinedMetricWarning: Recall and F-score are ill-defined and being set to 0.0 in labels with no true samples. Use `zero_division` parameter to control this behavior.\n",
      "  _warn_prf(average, modifier, msg_start, len(result))\n"
     ]
    }
   ],
   "source": [
    "#obtaining metrics such as accuracy, etc. on the test set\n",
    "ypred = crf.predict(Xtest)\n",
    "print('F1 score on the test set = {}\\n'.format(metrics.flat_f1_score(ytest, ypred,\n",
    "average='weighted', labels=labels)))\n",
    "print('Accuracy on the test set = {}\\n'.format(metrics.flat_accuracy_score(ytest, ypred)))\n",
    "\n",
    "print('Test set classification report: \\n\\n{}'.format(metrics.flat_classification_report(ytest, ypred, labels=labels, digits=3)))"
   ]
  },
  {
   "cell_type": "markdown",
   "id": "a8c9bceb",
   "metadata": {},
   "source": [
    "# Obtaining Transitions"
   ]
  },
  {
   "cell_type": "code",
   "execution_count": 10,
   "id": "6422d3cf",
   "metadata": {
    "ExecuteTime": {
     "end_time": "2023-04-15T15:50:43.374381Z",
     "start_time": "2023-04-15T15:50:41.978214Z"
    }
   },
   "outputs": [
    {
     "name": "stdout",
     "output_type": "stream",
     "text": [
      "Top 10 likely transitions - \n",
      "\n",
      "nr     -> nr      5.153766\n",
      "m      -> q       3.674815\n",
      "y      -> w       3.176700\n",
      "Tg     -> Tg      3.157888\n",
      "Ag     -> Ng      2.948003\n",
      "ad     -> v       2.721086\n",
      "Vg     -> Ng      2.692685\n",
      "d      -> Vg      2.603138\n",
      "Ag     -> Vg      2.601285\n",
      "an     -> an      2.470922\n",
      "\n",
      "Top 10 unlikely transitions - \n",
      "\n",
      "l      -> q       -2.203911\n",
      "vd     -> vn      -2.246065\n",
      "ad     -> m       -2.251487\n",
      "i      -> t       -2.280980\n",
      "y      -> m       -2.317202\n",
      "d      -> an      -2.386700\n",
      "i      -> q       -2.435754\n",
      "ad     -> u       -2.682211\n",
      "ad     -> vn      -3.345800\n",
      "ad     -> n       -3.603297\n"
     ]
    }
   ],
   "source": [
    "#obtaining the most likely and the least likely transitions \n",
    "from collections import Counter\n",
    "\n",
    "def print_transitions(transition_features):\n",
    "    for (label_from, label_to), weight in transition_features:\n",
    "        print(\"%-6s -> %-7s %0.6f\" % (label_from, label_to, weight))\n",
    "\n",
    "print(\"Top 10 likely transitions - \\n\")\n",
    "print_transitions(Counter(crf.transition_features_).most_common(10))\n",
    "\n",
    "print(\"\\nTop 10 unlikely transitions - \\n\")\n",
    "print_transitions(Counter(crf.transition_features_).most_common()[-10:])"
   ]
  }
 ],
 "metadata": {
  "kernelspec": {
   "display_name": "text_analysis",
   "language": "python",
   "name": "text_analysis"
  },
  "language_info": {
   "codemirror_mode": {
    "name": "ipython",
    "version": 3
   },
   "file_extension": ".py",
   "mimetype": "text/x-python",
   "name": "python",
   "nbconvert_exporter": "python",
   "pygments_lexer": "ipython3",
   "version": "3.9.16"
  },
  "latex_envs": {
   "LaTeX_envs_menu_present": true,
   "autoclose": false,
   "autocomplete": true,
   "bibliofile": "biblio.bib",
   "cite_by": "apalike",
   "current_citInitial": 1,
   "eqLabelWithNumbers": true,
   "eqNumInitial": 1,
   "hotkeys": {
    "equation": "Ctrl-E",
    "itemize": "Ctrl-I"
   },
   "labels_anchors": false,
   "latex_user_defs": false,
   "report_style_numbering": false,
   "user_envs_cfg": false
  },
  "toc": {
   "base_numbering": 1,
   "nav_menu": {},
   "number_sections": true,
   "sideBar": true,
   "skip_h1_title": false,
   "title_cell": "Table of Contents",
   "title_sidebar": "Contents",
   "toc_cell": false,
   "toc_position": {},
   "toc_section_display": true,
   "toc_window_display": false
  }
 },
 "nbformat": 4,
 "nbformat_minor": 5
}
