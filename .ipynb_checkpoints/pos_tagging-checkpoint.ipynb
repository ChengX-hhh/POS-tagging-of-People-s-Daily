{
 "cells": [
  {
   "cell_type": "code",
   "execution_count": 30,
   "id": "0f45905f",
   "metadata": {
    "ExecuteTime": {
     "end_time": "2023-04-12T01:27:38.415427Z",
     "start_time": "2023-04-12T01:27:38.397428Z"
    }
   },
   "outputs": [],
   "source": [
    "import re"
   ]
  },
  {
   "cell_type": "markdown",
   "id": "e6615bff",
   "metadata": {},
   "source": [
    "# Preprocessing"
   ]
  },
  {
   "cell_type": "code",
   "execution_count": 20,
   "id": "1977edae",
   "metadata": {
    "ExecuteTime": {
     "end_time": "2023-04-12T01:21:28.689483Z",
     "start_time": "2023-04-12T01:21:27.329321Z"
    }
   },
   "outputs": [],
   "source": [
    "with open('train.txt', 'r', encoding='UTF-8') as f:\n",
    "    train_sents = []\n",
    "    for sent in f:\n",
    "        # Split each sentence and extract each word and its corresponding tagging\n",
    "        token_tag_list = [i.strip('[]').split('/') for i in sent.strip().split() if i]\n",
    "        token_tag_list = token_tag_list[1:] # delete the date\n",
    "        train_sents.append(token_tag_list)\n",
    "        \n",
    "        \n",
    "with open('test.txt', 'r', encoding='UTF-8') as f:\n",
    "    test_sents = []\n",
    "    for sent in f:\n",
    "        # Split each sentence and extract each word and its corresponding tagging\n",
    "        token_tag_list = [i.strip('[]').split('/') for i in sent.strip().split() if i]\n",
    "        token_tag_list = token_tag_list[1:] # delete the date\n",
    "        test_sents.append(token_tag_list)"
   ]
  },
  {
   "cell_type": "markdown",
   "id": "51698d2a",
   "metadata": {},
   "source": [
    "# Feature function"
   ]
  },
  {
   "cell_type": "markdown",
   "id": "6ae7d4dd",
   "metadata": {},
   "source": [
    "T(·) is a multi-valued function, it classifies a character into four classifications: number, date, English letter and others (returns 1, 2, 3 and 4, respectively) (Jiang, et al., 2009)"
   ]
  },
  {
   "cell_type": "code",
   "execution_count": 22,
   "id": "937f6ba5",
   "metadata": {
    "ExecuteTime": {
     "end_time": "2023-04-12T01:21:50.959458Z",
     "start_time": "2023-04-12T01:21:50.946452Z"
    }
   },
   "outputs": [],
   "source": [
    "from zhon.hanzi import punctuation\n",
    "\n",
    "def T(word):\n",
    "    if word.isdigit() or word in ['零','一','二','三','四','五','六','七','八','九','〇']:\n",
    "        return '1'\n",
    "    elif word in ['-', '/', ':','年','月','日','时','分','秒']:\n",
    "        return '2'\n",
    "    elif bool(re.match(\"^[A-Za-z]+$\", word)):\n",
    "        return '3'\n",
    "    else:\n",
    "        return '4'"
   ]
  },
  {
   "cell_type": "code",
   "execution_count": 23,
   "id": "06a41e49",
   "metadata": {
    "ExecuteTime": {
     "end_time": "2023-04-12T01:21:53.316529Z",
     "start_time": "2023-04-12T01:21:53.296453Z"
    }
   },
   "outputs": [
    {
     "data": {
      "text/plain": [
       "'11243'"
      ]
     },
     "execution_count": 23,
     "metadata": {},
     "output_type": "execute_result"
    }
   ],
   "source": [
    "# Example\n",
    "word = '九〇年代R'\n",
    "result = []\n",
    "for w in word:\n",
    "    result.append(T(w))\n",
    "result_str = \"\".join(result)\n",
    "result_str"
   ]
  },
  {
   "cell_type": "code",
   "execution_count": 24,
   "id": "8c83f3d2",
   "metadata": {
    "ExecuteTime": {
     "end_time": "2023-04-12T01:21:56.666451Z",
     "start_time": "2023-04-12T01:21:56.647453Z"
    }
   },
   "outputs": [],
   "source": [
    "def word2features(sent, i):\n",
    "    word = sent[i][0]\n",
    "    word_T = []\n",
    "    word_T.append(T(word))\n",
    "    \n",
    "    features = {\n",
    "        'word': word,\n",
    "        'len(word)': len(word),\n",
    "        'word.ispunctuation': (word in punctuation)\n",
    "    }\n",
    "    if i > 0:\n",
    "        word1 = sent[i-1][0]\n",
    "        word_T.append(T(word1))\n",
    "        features.update({\n",
    "            '-1:word': word1,\n",
    "            '-1:len(word)': len(word1),\n",
    "            '-1:word.ispunctuation': (word1 in punctuation)\n",
    "        })\n",
    "    else:\n",
    "        features['BOS'] = True\n",
    "\n",
    "    if i > 1:\n",
    "        word2 = sent[i-2][0]\n",
    "        word_T.append(T(word2))\n",
    "        features.update({\n",
    "            '-2:word': word2,\n",
    "            '-2:len(word)': len(word2),\n",
    "            '-2:word.ispunctuation': (word2 in punctuation)\n",
    "        })\n",
    "\n",
    "    if i < len(sent)-1:\n",
    "        word1 = sent[i+1][0]\n",
    "        word_T.append(T(word1))\n",
    "        features.update({\n",
    "            '+1:word': word1,\n",
    "            '+1:len(word)': len(word1),\n",
    "            '+1:word.ispunctuation': (word1 in punctuation),\n",
    "        })\n",
    "\n",
    "    else:\n",
    "        features['EOS'] = True\n",
    "    if i < len(sent) - 2:\n",
    "        word2 = sent[i+2][0]\n",
    "        word_T.append(T(word2))\n",
    "        features.update({\n",
    "            '+2:word': word2,\n",
    "            '+2:len(word)': len(word2),\n",
    "            '+2:word.ispunctuation': (word2 in punctuation)\n",
    "        })\n",
    "        \n",
    "    result_str = \"\".join(word_T)\n",
    "    features.update({'multi_value': result_str})\n",
    "\n",
    "    return features\n",
    "\n",
    "\n",
    "def sent2features(sent):\n",
    "    return [word2features(sent, i) for i in range(len(sent))]\n",
    "\n",
    "def sent2labels(sent):\n",
    "    return [word[1] for word in sent]\n",
    "\n",
    "def sent2tokens(sent):\n",
    "    return [word[0] for word in sent]"
   ]
  },
  {
   "cell_type": "code",
   "execution_count": 25,
   "id": "2f81effa",
   "metadata": {
    "ExecuteTime": {
     "end_time": "2023-04-12T01:22:07.491465Z",
     "start_time": "2023-04-12T01:21:58.058451Z"
    }
   },
   "outputs": [],
   "source": [
    "Xtrain = [sent2features(s) for s in train_sents]\n",
    "ytrain = [sent2labels(s) for s in train_sents]\n",
    "\n",
    "Xtest = [sent2features(s) for s in test_sents]\n",
    "ytest = [sent2labels(s) for s in test_sents]"
   ]
  },
  {
   "cell_type": "markdown",
   "id": "36bf20d4",
   "metadata": {
    "ExecuteTime": {
     "end_time": "2023-04-12T01:30:24.628762Z",
     "start_time": "2023-04-12T01:30:24.608759Z"
    }
   },
   "source": [
    "# Training the Model"
   ]
  },
  {
   "cell_type": "code",
   "execution_count": 44,
   "id": "b361196e",
   "metadata": {
    "ExecuteTime": {
     "end_time": "2023-04-12T01:34:14.875796Z",
     "start_time": "2023-04-12T01:34:14.096765Z"
    }
   },
   "outputs": [],
   "source": [
    "import sklearn_crfsuite\n",
    "from sklearn_crfsuite import scorers\n",
    "from sklearn_crfsuite import metrics"
   ]
  },
  {
   "cell_type": "code",
   "execution_count": 45,
   "id": "afd0f74c",
   "metadata": {
    "ExecuteTime": {
     "end_time": "2023-04-12T01:51:33.567536Z",
     "start_time": "2023-04-12T01:34:17.602794Z"
    }
   },
   "outputs": [
    {
     "name": "stdout",
     "output_type": "stream",
     "text": [
      "CPU times: total: 17min 10s\n",
      "Wall time: 17min 15s\n"
     ]
    },
    {
     "data": {
      "text/html": [
       "<style>#sk-container-id-1 {color: black;background-color: white;}#sk-container-id-1 pre{padding: 0;}#sk-container-id-1 div.sk-toggleable {background-color: white;}#sk-container-id-1 label.sk-toggleable__label {cursor: pointer;display: block;width: 100%;margin-bottom: 0;padding: 0.3em;box-sizing: border-box;text-align: center;}#sk-container-id-1 label.sk-toggleable__label-arrow:before {content: \"▸\";float: left;margin-right: 0.25em;color: #696969;}#sk-container-id-1 label.sk-toggleable__label-arrow:hover:before {color: black;}#sk-container-id-1 div.sk-estimator:hover label.sk-toggleable__label-arrow:before {color: black;}#sk-container-id-1 div.sk-toggleable__content {max-height: 0;max-width: 0;overflow: hidden;text-align: left;background-color: #f0f8ff;}#sk-container-id-1 div.sk-toggleable__content pre {margin: 0.2em;color: black;border-radius: 0.25em;background-color: #f0f8ff;}#sk-container-id-1 input.sk-toggleable__control:checked~div.sk-toggleable__content {max-height: 200px;max-width: 100%;overflow: auto;}#sk-container-id-1 input.sk-toggleable__control:checked~label.sk-toggleable__label-arrow:before {content: \"▾\";}#sk-container-id-1 div.sk-estimator input.sk-toggleable__control:checked~label.sk-toggleable__label {background-color: #d4ebff;}#sk-container-id-1 div.sk-label input.sk-toggleable__control:checked~label.sk-toggleable__label {background-color: #d4ebff;}#sk-container-id-1 input.sk-hidden--visually {border: 0;clip: rect(1px 1px 1px 1px);clip: rect(1px, 1px, 1px, 1px);height: 1px;margin: -1px;overflow: hidden;padding: 0;position: absolute;width: 1px;}#sk-container-id-1 div.sk-estimator {font-family: monospace;background-color: #f0f8ff;border: 1px dotted black;border-radius: 0.25em;box-sizing: border-box;margin-bottom: 0.5em;}#sk-container-id-1 div.sk-estimator:hover {background-color: #d4ebff;}#sk-container-id-1 div.sk-parallel-item::after {content: \"\";width: 100%;border-bottom: 1px solid gray;flex-grow: 1;}#sk-container-id-1 div.sk-label:hover label.sk-toggleable__label {background-color: #d4ebff;}#sk-container-id-1 div.sk-serial::before {content: \"\";position: absolute;border-left: 1px solid gray;box-sizing: border-box;top: 0;bottom: 0;left: 50%;z-index: 0;}#sk-container-id-1 div.sk-serial {display: flex;flex-direction: column;align-items: center;background-color: white;padding-right: 0.2em;padding-left: 0.2em;position: relative;}#sk-container-id-1 div.sk-item {position: relative;z-index: 1;}#sk-container-id-1 div.sk-parallel {display: flex;align-items: stretch;justify-content: center;background-color: white;position: relative;}#sk-container-id-1 div.sk-item::before, #sk-container-id-1 div.sk-parallel-item::before {content: \"\";position: absolute;border-left: 1px solid gray;box-sizing: border-box;top: 0;bottom: 0;left: 50%;z-index: -1;}#sk-container-id-1 div.sk-parallel-item {display: flex;flex-direction: column;z-index: 1;position: relative;background-color: white;}#sk-container-id-1 div.sk-parallel-item:first-child::after {align-self: flex-end;width: 50%;}#sk-container-id-1 div.sk-parallel-item:last-child::after {align-self: flex-start;width: 50%;}#sk-container-id-1 div.sk-parallel-item:only-child::after {width: 0;}#sk-container-id-1 div.sk-dashed-wrapped {border: 1px dashed gray;margin: 0 0.4em 0.5em 0.4em;box-sizing: border-box;padding-bottom: 0.4em;background-color: white;}#sk-container-id-1 div.sk-label label {font-family: monospace;font-weight: bold;display: inline-block;line-height: 1.2em;}#sk-container-id-1 div.sk-label-container {text-align: center;}#sk-container-id-1 div.sk-container {/* jupyter's `normalize.less` sets `[hidden] { display: none; }` but bootstrap.min.css set `[hidden] { display: none !important; }` so we also need the `!important` here to be able to override the default hidden behavior on the sphinx rendered scikit-learn.org. See: https://github.com/scikit-learn/scikit-learn/issues/21755 */display: inline-block !important;position: relative;}#sk-container-id-1 div.sk-text-repr-fallback {display: none;}</style><div id=\"sk-container-id-1\" class=\"sk-top-container\"><div class=\"sk-text-repr-fallback\"><pre>CRF(algorithm=&#x27;lbfgs&#x27;, all_possible_transitions=True, c1=0.25, c2=0.3,\n",
       "    max_iterations=100)</pre><b>In a Jupyter environment, please rerun this cell to show the HTML representation or trust the notebook. <br />On GitHub, the HTML representation is unable to render, please try loading this page with nbviewer.org.</b></div><div class=\"sk-container\" hidden><div class=\"sk-item\"><div class=\"sk-estimator sk-toggleable\"><input class=\"sk-toggleable__control sk-hidden--visually\" id=\"sk-estimator-id-1\" type=\"checkbox\" checked><label for=\"sk-estimator-id-1\" class=\"sk-toggleable__label sk-toggleable__label-arrow\">CRF</label><div class=\"sk-toggleable__content\"><pre>CRF(algorithm=&#x27;lbfgs&#x27;, all_possible_transitions=True, c1=0.25, c2=0.3,\n",
       "    max_iterations=100)</pre></div></div></div></div></div>"
      ],
      "text/plain": [
       "CRF(algorithm='lbfgs', all_possible_transitions=True, c1=0.25, c2=0.3,\n",
       "    max_iterations=100)"
      ]
     },
     "execution_count": 45,
     "metadata": {},
     "output_type": "execute_result"
    }
   ],
   "source": [
    "%%time                                  \n",
    "crf = sklearn_crfsuite.CRF(\n",
    "    algorithm = 'lbfgs',\n",
    "    c1 = 0.25,\n",
    "    c2 = 0.3,\n",
    "    max_iterations = 100,\n",
    "    all_possible_transitions=True\n",
    ")\n",
    "crf.fit(Xtrain, ytrain)  "
   ]
  },
  {
   "cell_type": "markdown",
   "id": "3d3c38b3",
   "metadata": {},
   "source": [
    "# Evaluation"
   ]
  },
  {
   "cell_type": "code",
   "execution_count": 52,
   "id": "ccd93e79",
   "metadata": {
    "ExecuteTime": {
     "end_time": "2023-04-12T02:36:35.281025Z",
     "start_time": "2023-04-12T02:36:08.100537Z"
    }
   },
   "outputs": [
    {
     "name": "stdout",
     "output_type": "stream",
     "text": [
      "F1 score on the train set = 0.9778120633110919\n",
      "\n",
      "Accuracy on the train set = 0.9779777217004707\n",
      "\n"
     ]
    },
    {
     "name": "stderr",
     "output_type": "stream",
     "text": [
      "C:\\Users\\DELL\\anaconda3\\envs\\text_analysis\\lib\\site-packages\\sklearn\\metrics\\_classification.py:1344: UndefinedMetricWarning: Precision and F-score are ill-defined and being set to 0.0 in labels with no predicted samples. Use `zero_division` parameter to control this behavior.\n",
      "  _warn_prf(average, modifier, msg_start, len(result))\n",
      "C:\\Users\\DELL\\anaconda3\\envs\\text_analysis\\lib\\site-packages\\sklearn\\metrics\\_classification.py:1344: UndefinedMetricWarning: Precision and F-score are ill-defined and being set to 0.0 in labels with no predicted samples. Use `zero_division` parameter to control this behavior.\n",
      "  _warn_prf(average, modifier, msg_start, len(result))\n"
     ]
    },
    {
     "name": "stdout",
     "output_type": "stream",
     "text": [
      "Train set classification report: \n",
      "\n",
      "              precision    recall  f1-score   support\n",
      "\n",
      "           r      0.997     0.993     0.995     25929\n",
      "          Ng      0.973     0.937     0.955      3598\n",
      "           p      0.970     0.979     0.974     32083\n",
      "          nt      0.996     0.980     0.988      2693\n",
      "           w      1.000     1.000     1.000    138463\n",
      "           u      0.997     0.999     0.998     60070\n",
      "          vn      0.917     0.895     0.906     34501\n",
      "           v      0.966     0.967     0.966    147982\n",
      "           t      0.994     0.988     0.991     16656\n",
      "           f      0.989     0.989     0.989     13791\n",
      "           n      0.970     0.991     0.980    183015\n",
      "           m      0.995     0.991     0.993     32917\n",
      "           q      0.989     0.993     0.991     19236\n",
      "           l      0.977     0.947     0.961      4777\n",
      "           a      0.960     0.955     0.958     27723\n",
      "           b      0.986     0.951     0.968      7018\n",
      "           c      0.981     0.971     0.976     20544\n",
      "          ad      0.948     0.960     0.954      4773\n",
      "          nz      0.968     0.858     0.909      2865\n",
      "          nx      0.993     0.741     0.848       378\n",
      "           d      0.980     0.980     0.980     38416\n",
      "          nr      0.984     0.986     0.985     28101\n",
      "          an      0.914     0.786     0.845      2319\n",
      "          ns      0.993     0.980     0.987     22390\n",
      "           i      0.933     0.963     0.948      4049\n",
      "        n]nz      1.000     0.672     0.804       201\n",
      "          Vg      0.978     0.872     0.922      1393\n",
      "        n]nt      0.948     0.930     0.939      5384\n",
      "           s      0.987     0.950     0.968      3053\n",
      "           z      0.992     0.776     0.871      1100\n",
      "           j      0.991     0.918     0.953      7433\n",
      "          Ag      0.982     0.792     0.877       279\n",
      "        j]nt      0.983     0.962     0.973       738\n",
      "           k      0.993     0.987     0.990       742\n",
      "           y      0.989     0.983     0.986      1518\n",
      "        n]ns      0.948     0.866     0.905       803\n",
      "          Tg      0.985     0.959     0.972       411\n",
      "           e      1.000     0.727     0.842        22\n",
      "       nt]nt      0.993     0.889     0.938       153\n",
      "          vd      0.926     0.771     0.842       441\n",
      "          Dg      1.000     0.800     0.889       105\n",
      "          Mg      1.000     0.714     0.833         7\n",
      "           o      1.000     0.143     0.250        56\n",
      "        j]nz      0.917     0.815     0.863        27\n",
      "       ns]ns      1.000     0.588     0.741        17\n",
      "       vn]nt      1.000     0.200     0.333         5\n",
      "        l]nt      1.000     0.831     0.908        71\n",
      "       nz]nt      1.000     0.815     0.898        27\n",
      "           h      0.881     0.949     0.914        39\n",
      "          Bg      1.000     0.286     0.444         7\n",
      "       Ng]nt      1.000     0.200     0.333         5\n",
      "         i]i      1.000     0.875     0.933         8\n",
      "          na      0.000     0.000     0.000         1\n",
      "          Rg      1.000     0.444     0.615         9\n",
      "       ns]nt      0.000     0.000     0.000         3\n",
      "        q]nz      0.000     0.000     0.000         1\n",
      "       vn]nz      1.000     0.600     0.750         5\n",
      "        s]ns      0.000     0.000     0.000         1\n",
      "       Ng]nz      0.000     0.000     0.000         1\n",
      "         vvn      0.000     0.000     0.000         1\n",
      "       nr]nt      0.000     0.000     0.000         2\n",
      "        v]nt      0.000     0.000     0.000         1\n",
      "       nx]nt      1.000     1.000     1.000         3\n",
      "          Yg      0.000     0.000     0.000         1\n",
      "         l]l      0.000     0.000     0.000         1\n",
      "       nz]nz      0.000     0.000     0.000         1\n",
      "\n",
      "    accuracy                          0.978    898363\n",
      "   macro avg      0.816     0.698     0.735    898363\n",
      "weighted avg      0.978     0.978     0.978    898363\n",
      "\n"
     ]
    },
    {
     "name": "stderr",
     "output_type": "stream",
     "text": [
      "C:\\Users\\DELL\\anaconda3\\envs\\text_analysis\\lib\\site-packages\\sklearn\\metrics\\_classification.py:1344: UndefinedMetricWarning: Precision and F-score are ill-defined and being set to 0.0 in labels with no predicted samples. Use `zero_division` parameter to control this behavior.\n",
      "  _warn_prf(average, modifier, msg_start, len(result))\n"
     ]
    }
   ],
   "source": [
    "#obtaining metrics such as accuracy, etc. on the train set\n",
    "labels = list(crf.classes_)\n",
    "ypred = crf.predict(Xtrain)\n",
    "print('F1 score on the train set = {}\\n'.format(metrics.flat_f1_score(ytrain, ypred, average='weighted', labels=labels)))\n",
    "print('Accuracy on the train set = {}\\n'.format(metrics.flat_accuracy_score(ytrain, ypred)))\n",
    "print('Train set classification report: \\n\\n{}'.format(metrics.flat_classification_report(\n",
    "ytrain, ypred, labels=labels, digits=3\n",
    ")))"
   ]
  },
  {
   "cell_type": "code",
   "execution_count": 51,
   "id": "056f7cbe",
   "metadata": {
    "ExecuteTime": {
     "end_time": "2023-04-12T02:35:20.253428Z",
     "start_time": "2023-04-12T02:35:13.446586Z"
    }
   },
   "outputs": [
    {
     "name": "stderr",
     "output_type": "stream",
     "text": [
      "C:\\Users\\DELL\\anaconda3\\envs\\text_analysis\\lib\\site-packages\\sklearn\\metrics\\_classification.py:1609: UndefinedMetricWarning: F-score is ill-defined and being set to 0.0 in labels with no true nor predicted samples. Use `zero_division` parameter to control this behavior.\n",
      "  _warn_prf(average, \"true nor predicted\", \"F-score is\", len(true_sum))\n"
     ]
    },
    {
     "name": "stdout",
     "output_type": "stream",
     "text": [
      "F1 score on the test set = 0.9423551804701076\n",
      "\n",
      "Accuracy on the test set = 0.9432680066701332\n",
      "\n"
     ]
    },
    {
     "name": "stderr",
     "output_type": "stream",
     "text": [
      "C:\\Users\\DELL\\anaconda3\\envs\\text_analysis\\lib\\site-packages\\sklearn\\metrics\\_classification.py:1344: UndefinedMetricWarning: Precision and F-score are ill-defined and being set to 0.0 in labels with no predicted samples. Use `zero_division` parameter to control this behavior.\n",
      "  _warn_prf(average, modifier, msg_start, len(result))\n",
      "C:\\Users\\DELL\\anaconda3\\envs\\text_analysis\\lib\\site-packages\\sklearn\\metrics\\_classification.py:1344: UndefinedMetricWarning: Recall and F-score are ill-defined and being set to 0.0 in labels with no true samples. Use `zero_division` parameter to control this behavior.\n",
      "  _warn_prf(average, modifier, msg_start, len(result))\n",
      "C:\\Users\\DELL\\anaconda3\\envs\\text_analysis\\lib\\site-packages\\sklearn\\metrics\\_classification.py:1344: UndefinedMetricWarning: Precision and F-score are ill-defined and being set to 0.0 in labels with no predicted samples. Use `zero_division` parameter to control this behavior.\n",
      "  _warn_prf(average, modifier, msg_start, len(result))\n",
      "C:\\Users\\DELL\\anaconda3\\envs\\text_analysis\\lib\\site-packages\\sklearn\\metrics\\_classification.py:1344: UndefinedMetricWarning: Recall and F-score are ill-defined and being set to 0.0 in labels with no true samples. Use `zero_division` parameter to control this behavior.\n",
      "  _warn_prf(average, modifier, msg_start, len(result))\n"
     ]
    },
    {
     "name": "stdout",
     "output_type": "stream",
     "text": [
      "Test set classification report: \n",
      "\n",
      "              precision    recall  f1-score   support\n",
      "\n",
      "           r      0.995     0.979     0.987      6398\n",
      "          Ng      0.926     0.785     0.850       954\n",
      "           p      0.931     0.948     0.940      7842\n",
      "          nt      0.992     0.926     0.958       703\n",
      "           w      1.000     1.000     1.000     34584\n",
      "           u      0.993     0.997     0.995     14759\n",
      "          vn      0.845     0.811     0.828      8223\n",
      "           v      0.918     0.929     0.924     36781\n",
      "           t      0.984     0.956     0.969      4024\n",
      "           f      0.971     0.970     0.971      3410\n",
      "           n      0.909     0.971     0.939     45884\n",
      "           m      0.982     0.966     0.974      8453\n",
      "           q      0.969     0.978     0.974      5007\n",
      "           l      0.883     0.657     0.753      1154\n",
      "           a      0.922     0.874     0.897      6750\n",
      "           b      0.970     0.831     0.895      1697\n",
      "           c      0.955     0.935     0.945      4935\n",
      "          ad      0.884     0.883     0.884      1160\n",
      "          nz      0.876     0.616     0.723       804\n",
      "          nx      0.872     0.442     0.586        77\n",
      "           d      0.952     0.948     0.950      9395\n",
      "          nr      0.951     0.939     0.945      7164\n",
      "          an      0.787     0.598     0.680       518\n",
      "          ns      0.966     0.904     0.934      5478\n",
      "           i      0.741     0.750     0.745       971\n",
      "        n]nz      1.000     0.379     0.550        58\n",
      "          Vg      0.929     0.663     0.774       356\n",
      "        n]nt      0.831     0.779     0.804      1242\n",
      "           s      0.961     0.877     0.917       782\n",
      "           z      0.986     0.478     0.644       291\n",
      "           j      0.968     0.801     0.877      1920\n",
      "          Ag      0.773     0.405     0.531        42\n",
      "        j]nt      0.924     0.741     0.823       197\n",
      "           k      0.983     0.957     0.970       186\n",
      "           y      0.973     0.962     0.967       371\n",
      "        n]ns      0.829     0.610     0.703       223\n",
      "          Tg      0.975     0.906     0.939        85\n",
      "           e      1.000     0.200     0.333         5\n",
      "       nt]nt      0.800     0.667     0.727        24\n",
      "          vd      0.857     0.414     0.558        87\n",
      "          Dg      1.000     0.233     0.378        30\n",
      "          Mg      0.000     0.000     0.000         0\n",
      "           o      0.000     0.000     0.000        14\n",
      "        j]nz      1.000     0.500     0.667         8\n",
      "       ns]ns      1.000     0.500     0.667         2\n",
      "       vn]nt      0.000     0.000     0.000         0\n",
      "        l]nt      0.800     0.400     0.533        10\n",
      "       nz]nt      1.000     0.333     0.500         3\n",
      "           h      1.000     0.875     0.933         8\n",
      "          Bg      0.000     0.000     0.000         1\n",
      "       Ng]nt      0.000     0.000     0.000         3\n",
      "         i]i      0.000     0.000     0.000         5\n",
      "          na      0.000     0.000     0.000         0\n",
      "          Rg      0.000     0.000     0.000         1\n",
      "       ns]nt      0.000     0.000     0.000         0\n",
      "        q]nz      0.000     0.000     0.000         0\n",
      "       vn]nz      0.000     0.000     0.000         0\n",
      "        s]ns      0.000     0.000     0.000         0\n",
      "       Ng]nz      0.000     0.000     0.000         1\n",
      "         vvn      0.000     0.000     0.000         0\n",
      "       nr]nt      0.000     0.000     0.000         0\n",
      "        v]nt      0.000     0.000     0.000         0\n",
      "       nx]nt      1.000     1.000     1.000         1\n",
      "          Yg      0.000     0.000     0.000         0\n",
      "         l]l      0.000     0.000     0.000         1\n",
      "       nz]nz      0.000     0.000     0.000         1\n",
      "\n",
      "   micro avg      0.943     0.943     0.943    223083\n",
      "   macro avg      0.663     0.534     0.576    223083\n",
      "weighted avg      0.943     0.943     0.942    223083\n",
      "\n"
     ]
    },
    {
     "name": "stderr",
     "output_type": "stream",
     "text": [
      "C:\\Users\\DELL\\anaconda3\\envs\\text_analysis\\lib\\site-packages\\sklearn\\metrics\\_classification.py:1344: UndefinedMetricWarning: Precision and F-score are ill-defined and being set to 0.0 in labels with no predicted samples. Use `zero_division` parameter to control this behavior.\n",
      "  _warn_prf(average, modifier, msg_start, len(result))\n",
      "C:\\Users\\DELL\\anaconda3\\envs\\text_analysis\\lib\\site-packages\\sklearn\\metrics\\_classification.py:1344: UndefinedMetricWarning: Recall and F-score are ill-defined and being set to 0.0 in labels with no true samples. Use `zero_division` parameter to control this behavior.\n",
      "  _warn_prf(average, modifier, msg_start, len(result))\n"
     ]
    }
   ],
   "source": [
    "#obtaining metrics such as accuracy, etc. on the test set\n",
    "ypred = crf.predict(Xtest)\n",
    "print('F1 score on the test set = {}\\n'.format(metrics.flat_f1_score(ytest, ypred,\n",
    "average='weighted', labels=labels)))\n",
    "print('Accuracy on the test set = {}\\n'.format(metrics.flat_accuracy_score(ytest, ypred)))\n",
    "\n",
    "print('Test set classification report: \\n\\n{}'.format(metrics.flat_classification_report(ytest, ypred, labels=labels, digits=3)))"
   ]
  },
  {
   "cell_type": "markdown",
   "id": "a8c9bceb",
   "metadata": {},
   "source": [
    "# Obtaining Transitions"
   ]
  },
  {
   "cell_type": "code",
   "execution_count": 53,
   "id": "6422d3cf",
   "metadata": {
    "ExecuteTime": {
     "end_time": "2023-04-12T02:51:37.669883Z",
     "start_time": "2023-04-12T02:51:36.043945Z"
    }
   },
   "outputs": [
    {
     "name": "stdout",
     "output_type": "stream",
     "text": [
      "Top 10 likely transitions - \n",
      "\n",
      "m      -> q       4.294067\n",
      "nr     -> nr      4.290133\n",
      "nz     -> n]ns    3.747347\n",
      "d      -> Vg      3.286187\n",
      "nz     -> vn]nt   3.187721\n",
      "Tg     -> Tg      2.963866\n",
      "ns     -> ns]ns   2.928231\n",
      "ns     -> n]ns    2.917552\n",
      "d      -> v       2.888660\n",
      "y      -> w       2.809339\n",
      "\n",
      "Top 10 unlikely transitions - \n",
      "\n",
      "n]ns   -> n]nt    -2.526590\n",
      "v      -> n]ns    -2.684086\n",
      "ad     -> u       -2.864342\n",
      "ad     -> vn      -3.208220\n",
      "r      -> n]nt    -3.294675\n",
      "ad     -> n       -3.455684\n",
      "u      -> n]nt    -3.699890\n",
      "v      -> n]nt    -3.815452\n",
      "p      -> n]nt    -4.117660\n",
      "n]nt   -> n]nt    -4.158979\n"
     ]
    }
   ],
   "source": [
    "#obtaining the most likely and the least likely transitions \n",
    "from collections import Counter\n",
    "\n",
    "def print_transitions(transition_features):\n",
    "    for (label_from, label_to), weight in transition_features:\n",
    "        print(\"%-6s -> %-7s %0.6f\" % (label_from, label_to, weight))\n",
    "\n",
    "print(\"Top 10 likely transitions - \\n\")\n",
    "print_transitions(Counter(crf.transition_features_).most_common(10))\n",
    "\n",
    "print(\"\\nTop 10 unlikely transitions - \\n\")\n",
    "print_transitions(Counter(crf.transition_features_).most_common()[-10:])"
   ]
  }
 ],
 "metadata": {
  "kernelspec": {
   "display_name": "text_analysis",
   "language": "python",
   "name": "text_analysis"
  },
  "language_info": {
   "codemirror_mode": {
    "name": "ipython",
    "version": 3
   },
   "file_extension": ".py",
   "mimetype": "text/x-python",
   "name": "python",
   "nbconvert_exporter": "python",
   "pygments_lexer": "ipython3",
   "version": "3.9.16"
  },
  "latex_envs": {
   "LaTeX_envs_menu_present": true,
   "autoclose": false,
   "autocomplete": true,
   "bibliofile": "biblio.bib",
   "cite_by": "apalike",
   "current_citInitial": 1,
   "eqLabelWithNumbers": true,
   "eqNumInitial": 1,
   "hotkeys": {
    "equation": "Ctrl-E",
    "itemize": "Ctrl-I"
   },
   "labels_anchors": false,
   "latex_user_defs": false,
   "report_style_numbering": false,
   "user_envs_cfg": false
  },
  "toc": {
   "base_numbering": 1,
   "nav_menu": {},
   "number_sections": true,
   "sideBar": true,
   "skip_h1_title": false,
   "title_cell": "Table of Contents",
   "title_sidebar": "Contents",
   "toc_cell": false,
   "toc_position": {},
   "toc_section_display": true,
   "toc_window_display": false
  }
 },
 "nbformat": 4,
 "nbformat_minor": 5
}
